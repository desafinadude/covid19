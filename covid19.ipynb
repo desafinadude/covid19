{
 "cells": [
  {
   "cell_type": "code",
   "execution_count": null,
   "id": "8ef5bbff",
   "metadata": {},
   "outputs": [],
   "source": [
    "import datetime\n",
    "import re\n",
    "import pandas as pd\n",
    "import numpy as np\n",
    "\n",
    "import altair as alt\n",
    "\n",
    "from ipywidgets import interact, interactive, fixed, interact_manual\n",
    "import ipywidgets as widgets\n",
    "\n",
    "import folium"
   ]
  },
  {
   "cell_type": "code",
   "execution_count": null,
   "id": "62c29573",
   "metadata": {},
   "outputs": [],
   "source": [
    "def to_epiweek(cal_date: datetime.date):\n",
    "    delta = cal_date - datetime.date(cal_date.year, 1, 1)\n",
    "    days = delta.days\n",
    "    epiweek = (days // 7) + 1\n",
    "    epiweek = epiweek if epiweek < 53 else 52\n",
    "    return (cal_date.year, epiweek)\n",
    "\n",
    "assert to_epiweek(datetime.date(2020, 1, 1)) == (2020, 1)\n",
    "assert to_epiweek(datetime.date(2020, 12, 31)) == (2020, 52)\n",
    "assert to_epiweek(datetime.date(2021, 1, 1)) == (2021, 1)"
   ]
  },
  {
   "cell_type": "code",
   "execution_count": null,
   "id": "9dbeeefa",
   "metadata": {},
   "outputs": [],
   "source": [
    "country_codes = pd.read_csv('data/iso_codes.csv')"
   ]
  },
  {
   "cell_type": "code",
   "execution_count": null,
   "id": "fad203d8",
   "metadata": {},
   "outputs": [],
   "source": [
    "covid19_df = pd.read_csv('https://covid.ourworldindata.org/data/owid-covid-data.csv')"
   ]
  },
  {
   "cell_type": "code",
   "execution_count": null,
   "id": "0d18c734",
   "metadata": {},
   "outputs": [],
   "source": [
    "covid19_df = pd.merge(covid19_df, country_codes, how='left', left_on='iso_code', right_on='Alpha3')\n",
    "covid19_df = covid19_df.set_index('iso_code')\n",
    "covid19_df"
   ]
  },
  {
   "cell_type": "code",
   "execution_count": null,
   "id": "d4b6f7c3",
   "metadata": {},
   "outputs": [],
   "source": [
    "# Collect some filterable values\n",
    "\n",
    "columns = covid19_df.columns.tolist()\n",
    "continents = covid19_df.continent.unique()\n",
    "locations = covid19_df.location.unique()\n",
    "\n",
    "# Set globals\n",
    "\n",
    "selected_continent = 'Africa'\n",
    "selected_country = locations[0]\n",
    "first_metric = 'new_cases_smoothed'\n",
    "second_metric = 'new_deaths_smoothed'\n",
    "time_period = 600"
   ]
  },
  {
   "cell_type": "code",
   "execution_count": null,
   "id": "52261367",
   "metadata": {},
   "outputs": [],
   "source": [
    "def filter_countries(continent):\n",
    "    global selected_continent\n",
    "    selected_continent = continent\n",
    "    \n",
    "    countries = covid19_df.loc[covid19_df.continent == continent]\n",
    "    countries = countries.location.unique()\n",
    "    \n",
    "    global selected_country\n",
    "    selected_country = countries[0]\n",
    "    \n",
    "    return (\n",
    "        interact(select_country, country = widgets.Dropdown(\n",
    "            options=countries,\n",
    "            value=selected_country,\n",
    "            description='Country',\n",
    "            disabled=False,\n",
    "        ))\n",
    "    )"
   ]
  },
  {
   "cell_type": "code",
   "execution_count": null,
   "id": "19240da8",
   "metadata": {},
   "outputs": [],
   "source": [
    "def select_country(country):\n",
    "    global selected_country\n",
    "    selected_country = country"
   ]
  },
  {
   "cell_type": "code",
   "execution_count": null,
   "id": "2efa9a10",
   "metadata": {},
   "outputs": [],
   "source": [
    "def set_first_metric(metric):\n",
    "    global first_metric\n",
    "    first_metric = metric"
   ]
  },
  {
   "cell_type": "code",
   "execution_count": null,
   "id": "1c5162c5",
   "metadata": {},
   "outputs": [],
   "source": [
    "def set_second_metric(metric):\n",
    "    global second_metric\n",
    "    second_metric = metric"
   ]
  },
  {
   "cell_type": "code",
   "execution_count": null,
   "id": "9676315a",
   "metadata": {},
   "outputs": [],
   "source": [
    "def set_period(period):\n",
    "    global time_period\n",
    "    time_period = period"
   ]
  },
  {
   "cell_type": "code",
   "execution_count": null,
   "id": "a60159c4",
   "metadata": {},
   "outputs": [],
   "source": [
    "def draw_chart():\n",
    "    global selected_country\n",
    "    global first_metric\n",
    "    global second_metric\n",
    "    global time_period\n",
    "      \n",
    "    country_df = covid19_df.loc[covid19_df.location == selected_country]\n",
    "    \n",
    "    country_df = country_df.tail(time_period)\n",
    "\n",
    "    base = alt.Chart(country_df, width=1000).encode(\n",
    "        alt.X('yearmonthdate(date):T', title='epiweek:O', axis=alt.Axis(tickCount=14, labelAngle=90))\n",
    "    )\n",
    "\n",
    "    mark_bar = base.mark_bar().encode(\n",
    "        y = alt.Y(first_metric)\n",
    "#         color = alt.Color('positive_rate', scale = alt.Scale(range=['blue', 'green', 'yellow', 'red']), title='Case Positivity')\n",
    "    )\n",
    "\n",
    "    mark_line = base.mark_line(color='red').encode(\n",
    "        y = alt.Y(second_metric)\n",
    "    )\n",
    "\n",
    "    return alt.layer(mark_bar, mark_line).resolve_scale(y = 'independent')"
   ]
  },
  {
   "cell_type": "code",
   "execution_count": null,
   "id": "01a64066",
   "metadata": {},
   "outputs": [],
   "source": [
    "# compute when a range is monotonically increasing\n",
    "def is_increasing(arr):\n",
    "    for i in range(1, len(arr)):\n",
    "        if arr[i-1] >= arr[i]:\n",
    "            return False\n",
    "    else:\n",
    "        return True"
   ]
  },
  {
   "cell_type": "code",
   "execution_count": null,
   "id": "3f5c7952",
   "metadata": {},
   "outputs": [],
   "source": [
    "def cases_increasing(country_df,increase_window):\n",
    "    country_df.insert(0, 'increasing', country_df.new_cases_smoothed.rolling(increase_window).apply(is_increasing))\n",
    "    country_df.insert(0, 'increasing_avg', country_df.increasing.rolling(increase_window).mean())"
   ]
  },
  {
   "cell_type": "code",
   "execution_count": null,
   "id": "913fc21a",
   "metadata": {},
   "outputs": [],
   "source": [
    "def draw_trend_chart():\n",
    "    global selected_country\n",
    "    global first_metric\n",
    "    global second_metric\n",
    "    global time_period\n",
    "    \n",
    "    country_df = covid19_df.loc[covid19_df.location == selected_country]\n",
    "    \n",
    "    country_df = country_df.tail(time_period)\n",
    "    \n",
    "    increase_window = 7\n",
    "    \n",
    "    country_df.insert(0, 'increasing', country_df.new_cases_smoothed.rolling(increase_window).apply(is_increasing))\n",
    "    country_df.insert(0, 'increasing_avg', country_df.increasing.rolling(increase_window).mean())\n",
    "    \n",
    "    pd.set_option('display.max_rows', None)\n",
    "    display(country_df)\n",
    "    \n",
    "    base = alt.Chart(country_df, width=1000).encode(\n",
    "        alt.X('yearmonthdate(date):T', title='epiweek:O', axis=alt.Axis(tickCount=14, labelAngle=90))\n",
    "    )\n",
    "\n",
    "    mark_bar = base.mark_bar().encode(\n",
    "        x = alt.X('yearmonthdate(date):T', title='epiweek:O', axis=alt.Axis(tickCount=14, labelAngle=90)),\n",
    "        y = alt.Y('new_cases_smoothed', title='Daily Cases'),\n",
    "        color = alt.Color('increasing_avg', title=f'{increase_window} Day Increase', scale=alt.Scale(range=['#85C1E9 ', '#F1948A']))\n",
    "    )\n",
    "\n",
    "    mark_first_line = base.mark_line(color='#16A085 ').encode(\n",
    "        y = alt.Y(first_metric)\n",
    "    )\n",
    "    \n",
    "    mark_second_line = base.mark_line(color='#34495E').encode(\n",
    "        y = alt.Y(second_metric)\n",
    "    )\n",
    "\n",
    "    return alt.layer(mark_bar, mark_first_line).resolve_scale(y = 'independent') \n"
   ]
  },
  {
   "cell_type": "code",
   "execution_count": null,
   "id": "a5ffb1c2",
   "metadata": {},
   "outputs": [],
   "source": [
    "def choropleth():\n",
    "    global selected_country\n",
    "    global first_metric\n",
    "    global second_metric\n",
    "    global time_period\n",
    "    \n",
    "    countries_df = covid19_df.loc[covid19_df.continent == selected_continent]\n",
    "    \n",
    "    increase_window = 5\n",
    "    \n",
    "    countries_df.insert(0, 'increasing', countries_df.new_cases_smoothed.rolling(increase_window).apply(is_increasing))\n",
    "    countries_df.insert(0, 'increasing_avg', countries_df.increasing.rolling(increase_window).mean())\n",
    "    \n",
    "    countries_df.to_csv('data.csv')\n",
    "    \n",
    "    \n",
    "    \n",
    "    countries_df = countries_df.sort_values('date').drop_duplicates('Alpha3',keep='last')\n",
    "    \n",
    "    \n",
    "    \n",
    "    m = folium.Map(location=[30, -10], zoom_start=3)\n",
    "    \n",
    "    countries_geo = f\"data/world-countries.json\"\n",
    "\n",
    "    folium.Choropleth(\n",
    "        geo_data=countries_geo,\n",
    "        name=\"choropleth\",\n",
    "        data=countries_df,\n",
    "        columns=[\"Alpha3\",\"increasing\"],\n",
    "        key_on=\"feature.id\",\n",
    "        fill_color=\"YlGn\",\n",
    "        fill_opacity=0.5,\n",
    "        line_opacity=.1,\n",
    "        legend_name=\"\",\n",
    "    ).add_to(m)\n",
    "\n",
    "    folium.LayerControl().add_to(m)\n",
    "\n",
    "    return m"
   ]
  },
  {
   "cell_type": "code",
   "execution_count": null,
   "id": "7f715ef2",
   "metadata": {},
   "outputs": [],
   "source": [
    "def mobility_data():\n",
    "    global selected_country\n",
    "    \n",
    "    country_df = covid19_df.loc[covid19_df.location == selected_country]\n",
    "    \n",
    "    Alpha2 = country_df.iloc[0]['Alpha2']\n",
    "    \n",
    "    country_mobility_df = pd.read_csv('data/mobility-reports/2021_' + Alpha2 + '_Region_Mobility_Report.csv')\n",
    "    \n",
    "    country_mobility_df = country_mobility_df.drop(columns=['place_id','iso_3166_2_code','census_fips_code'])\n",
    "    \n",
    "    return country_mobility_df"
   ]
  },
  {
   "cell_type": "code",
   "execution_count": null,
   "id": "86982fcc",
   "metadata": {},
   "outputs": [],
   "source": [
    "# FILTER COUNTRIES BY CONTINENT\n",
    "\n",
    "interact(filter_countries, continent = widgets.Dropdown(\n",
    "    options=continents,\n",
    "    value='Africa',\n",
    "    description='Continent',\n",
    "    disabled=False,\n",
    "))\n",
    "\n",
    "# SELECT METRICS\n",
    "\n",
    "interact(set_first_metric, metric = widgets.Dropdown(\n",
    "    options=columns,\n",
    "    value='new_cases_smoothed',\n",
    "    description='',\n",
    "    disabled=False,\n",
    "))\n",
    "\n",
    "interact(set_second_metric, metric = widgets.Dropdown(\n",
    "    options=columns,\n",
    "    value='new_deaths_smoothed',\n",
    "    description='',\n",
    "    disabled=False,\n",
    "))\n",
    "\n",
    "# PERIOD\n",
    "\n",
    "interact(set_period, period = widgets.IntText(\n",
    "    value=100,\n",
    "    description='Period:',\n",
    "    disabled=False\n",
    "))"
   ]
  },
  {
   "cell_type": "code",
   "execution_count": null,
   "id": "d7caffd9",
   "metadata": {},
   "outputs": [],
   "source": [
    "display(draw_trend_chart()) # new_cases_smoothed increase/decrease compared to ...\n",
    "display(draw_chart())\n",
    "# display(mobility_data())\n",
    "# display(choropleth())\n"
   ]
  }
 ],
 "metadata": {
  "kernelspec": {
   "display_name": "Python 3 (ipykernel)",
   "language": "python",
   "name": "python3"
  },
  "language_info": {
   "codemirror_mode": {
    "name": "ipython",
    "version": 3
   },
   "file_extension": ".py",
   "mimetype": "text/x-python",
   "name": "python",
   "nbconvert_exporter": "python",
   "pygments_lexer": "ipython3",
   "version": "3.7.1"
  }
 },
 "nbformat": 4,
 "nbformat_minor": 5
}
