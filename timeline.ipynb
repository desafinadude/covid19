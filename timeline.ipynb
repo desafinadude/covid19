{
 "cells": [
  {
   "cell_type": "code",
   "execution_count": null,
   "id": "14b1088d",
   "metadata": {},
   "outputs": [],
   "source": [
    "import datetime\n",
    "import re\n",
    "import pandas as pd\n",
    "import numpy as np"
   ]
  },
  {
   "cell_type": "code",
   "execution_count": null,
   "id": "9eb90b12",
   "metadata": {},
   "outputs": [],
   "source": [
    "def inc(arr):\n",
    "    return np.sum(arr)"
   ]
  },
  {
   "cell_type": "code",
   "execution_count": null,
   "id": "6c265424",
   "metadata": {},
   "outputs": [],
   "source": [
    "def change(arr):\n",
    "    change = (((arr.values[6] - arr.values[0]) / np.absolute(arr.values[0])) * 100)\n",
    "    return change"
   ]
  },
  {
   "cell_type": "code",
   "execution_count": null,
   "id": "7f64ca9e",
   "metadata": {},
   "outputs": [],
   "source": [
    "covid19_df = pd.read_csv('https://covid.ourworldindata.org/data/owid-covid-data.csv')"
   ]
  },
  {
   "cell_type": "code",
   "execution_count": null,
   "id": "382f5e78",
   "metadata": {},
   "outputs": [],
   "source": [
    "df = covid19_df"
   ]
  },
  {
   "cell_type": "code",
   "execution_count": null,
   "id": "5ca80a55",
   "metadata": {},
   "outputs": [],
   "source": [
    "df = df.loc[df.continent == 'Africa']"
   ]
  },
  {
   "cell_type": "code",
   "execution_count": null,
   "id": "e59ce97f",
   "metadata": {},
   "outputs": [],
   "source": [
    "iso_codes = df['iso_code'].unique()\n",
    "iso_codes"
   ]
  },
  {
   "cell_type": "code",
   "execution_count": null,
   "id": "7b1f721f",
   "metadata": {},
   "outputs": [],
   "source": [
    "africa_df = pd.DataFrame()\n",
    "\n",
    "for iso_code in iso_codes:\n",
    "    country_df = df.loc[df.iso_code == iso_code]\n",
    "    country_df = country_df[['date','iso_code','new_cases']]\n",
    "    country_df.insert(3,'summed', country_df.new_cases.rolling(7).apply(inc))\n",
    "    country_df.insert(4,'change', country_df.summed.rolling(7).apply(change))\n",
    "    africa_df = africa_df.append(country_df, ignore_index=True)"
   ]
  },
  {
   "cell_type": "code",
   "execution_count": null,
   "id": "a0bcc1a9",
   "metadata": {},
   "outputs": [],
   "source": [
    "africa_df"
   ]
  },
  {
   "cell_type": "code",
   "execution_count": null,
   "id": "607221ff",
   "metadata": {},
   "outputs": [],
   "source": [
    "# short = africa_df_piv.iloc[520: , :]\n",
    "# short.to_csv('weeklychange_short.csv')\n",
    "africa_df.to_csv('weeklychange.csv',index=False)"
   ]
  }
 ],
 "metadata": {
  "kernelspec": {
   "display_name": "Python 3 (ipykernel)",
   "language": "python",
   "name": "python3"
  },
  "language_info": {
   "codemirror_mode": {
    "name": "ipython",
    "version": 3
   },
   "file_extension": ".py",
   "mimetype": "text/x-python",
   "name": "python",
   "nbconvert_exporter": "python",
   "pygments_lexer": "ipython3",
   "version": "3.7.1"
  }
 },
 "nbformat": 4,
 "nbformat_minor": 5
}
