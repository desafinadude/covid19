{
 "cells": [
  {
   "cell_type": "code",
   "execution_count": null,
   "id": "887b3acc",
   "metadata": {},
   "outputs": [],
   "source": [
    "import pandas as pd\n",
    "import altair as alt\n",
    "import numpy as np"
   ]
  },
  {
   "cell_type": "code",
   "execution_count": null,
   "id": "237c174b",
   "metadata": {},
   "outputs": [],
   "source": [
    "owid = pd.read_csv('https://covid.ourworldindata.org/data/owid-covid-data.csv')"
   ]
  },
  {
   "cell_type": "code",
   "execution_count": null,
   "id": "2d7f9deb",
   "metadata": {},
   "outputs": [],
   "source": [
    "# df = owid.loc[owid.continent == 'Africa']\n",
    "df = owid.loc[owid.iso_code == 'ZAF']\n",
    "df.tail()"
   ]
  },
  {
   "cell_type": "code",
   "execution_count": null,
   "id": "f0e0d69d",
   "metadata": {},
   "outputs": [],
   "source": [
    "def inc(arr):\n",
    "    return np.sum(arr)"
   ]
  },
  {
   "cell_type": "code",
   "execution_count": null,
   "id": "c393c62a",
   "metadata": {},
   "outputs": [],
   "source": [
    "df.insert(0,'summed',df.new_cases.rolling(7).apply(inc))\n",
    "df.tail()"
   ]
  },
  {
   "cell_type": "code",
   "execution_count": null,
   "id": "a531c55e",
   "metadata": {},
   "outputs": [],
   "source": [
    "def change(arr):\n",
    "    change = (((arr.values[6] - arr.values[0]) / np.absolute(arr.values[0])) * 100)\n",
    "    return change"
   ]
  },
  {
   "cell_type": "code",
   "execution_count": null,
   "id": "60927de2",
   "metadata": {},
   "outputs": [],
   "source": [
    "df.insert(0,'change', df.summed.rolling(7).apply(change))\n",
    "pd.set_option('display.max_rows', None)\n",
    "df.tail()\n",
    "# df.to_csv('change.csv',sep='|')"
   ]
  },
  {
   "cell_type": "code",
   "execution_count": null,
   "id": "de6e3287",
   "metadata": {},
   "outputs": [],
   "source": [
    "base = alt.Chart(df, width=1000).encode(\n",
    "        alt.X('yearmonthdate(date):T', title='', axis=alt.Axis(labelAngle=90))\n",
    "    )\n",
    "mark_line = base.mark_line(color='red').encode(\n",
    "        y = alt.Y('change')\n",
    "    )\n",
    "\n",
    "alt.layer(mark_line)"
   ]
  }
 ],
 "metadata": {
  "kernelspec": {
   "display_name": "Python 3 (ipykernel)",
   "language": "python",
   "name": "python3"
  },
  "language_info": {
   "codemirror_mode": {
    "name": "ipython",
    "version": 3
   },
   "file_extension": ".py",
   "mimetype": "text/x-python",
   "name": "python",
   "nbconvert_exporter": "python",
   "pygments_lexer": "ipython3",
   "version": "3.7.1"
  }
 },
 "nbformat": 4,
 "nbformat_minor": 5
}
